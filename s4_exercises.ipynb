{
  "cells": [
    {
      "cell_type": "markdown",
      "metadata": {
        "id": "YluThavSflVm"
      },
      "source": []
    },
    {
      "cell_type": "markdown",
      "metadata": {
        "id": "THuSWSyZh3Gl"
      },
      "source": [
        "### Exercise: Load and Preview the California Housing Dataset\n",
        "\n",
        "**Instructions:**\n",
        "\n",
        "1. Read the dataset file `california_housing_train.csv` using the `pandas` library.\n",
        "2. Print the first 5 rows of the dataset.\n",
        "\n",
        "**Expected Output:**\n",
        "\n",
        "The first 5 rows of the dataset should be displayed, showing columns like `longitude`, `latitude`, `housing_median_age`, etc.\n"
      ]
    },
    {
      "cell_type": "code",
      "execution_count": 3,
      "metadata": {
        "colab": {
          "base_uri": "https://localhost:8080/",
          "height": 206
        },
        "id": "z8icG7raSQSB",
        "outputId": "0935913f-3ec6-476d-9dc6-690d8754c805"
      },
      "outputs": [],
      "source": [
        "import pandas as pd\n",
        "df = pd.read_csv('california_housing_train.csv')"
      ]
    },
    {
      "cell_type": "code",
      "execution_count": 4,
      "metadata": {},
      "outputs": [
        {
          "data": {
            "text/html": [
              "<div>\n",
              "<style scoped>\n",
              "    .dataframe tbody tr th:only-of-type {\n",
              "        vertical-align: middle;\n",
              "    }\n",
              "\n",
              "    .dataframe tbody tr th {\n",
              "        vertical-align: top;\n",
              "    }\n",
              "\n",
              "    .dataframe thead th {\n",
              "        text-align: right;\n",
              "    }\n",
              "</style>\n",
              "<table border=\"1\" class=\"dataframe\">\n",
              "  <thead>\n",
              "    <tr style=\"text-align: right;\">\n",
              "      <th></th>\n",
              "      <th>longitude</th>\n",
              "      <th>latitude</th>\n",
              "      <th>housing_median_age</th>\n",
              "      <th>total_rooms</th>\n",
              "      <th>total_bedrooms</th>\n",
              "      <th>population</th>\n",
              "      <th>households</th>\n",
              "      <th>median_income</th>\n",
              "      <th>median_house_value</th>\n",
              "    </tr>\n",
              "  </thead>\n",
              "  <tbody>\n",
              "    <tr>\n",
              "      <th>0</th>\n",
              "      <td>-114.31</td>\n",
              "      <td>34.19</td>\n",
              "      <td>15.0</td>\n",
              "      <td>5612.0</td>\n",
              "      <td>1283.0</td>\n",
              "      <td>1015.0</td>\n",
              "      <td>472.0</td>\n",
              "      <td>1.4936</td>\n",
              "      <td>66900.0</td>\n",
              "    </tr>\n",
              "    <tr>\n",
              "      <th>1</th>\n",
              "      <td>-114.47</td>\n",
              "      <td>34.40</td>\n",
              "      <td>19.0</td>\n",
              "      <td>7650.0</td>\n",
              "      <td>1901.0</td>\n",
              "      <td>1129.0</td>\n",
              "      <td>463.0</td>\n",
              "      <td>1.8200</td>\n",
              "      <td>80100.0</td>\n",
              "    </tr>\n",
              "    <tr>\n",
              "      <th>2</th>\n",
              "      <td>-114.56</td>\n",
              "      <td>33.69</td>\n",
              "      <td>17.0</td>\n",
              "      <td>720.0</td>\n",
              "      <td>174.0</td>\n",
              "      <td>333.0</td>\n",
              "      <td>117.0</td>\n",
              "      <td>1.6509</td>\n",
              "      <td>85700.0</td>\n",
              "    </tr>\n",
              "    <tr>\n",
              "      <th>3</th>\n",
              "      <td>-114.57</td>\n",
              "      <td>33.64</td>\n",
              "      <td>14.0</td>\n",
              "      <td>1501.0</td>\n",
              "      <td>337.0</td>\n",
              "      <td>515.0</td>\n",
              "      <td>226.0</td>\n",
              "      <td>3.1917</td>\n",
              "      <td>73400.0</td>\n",
              "    </tr>\n",
              "    <tr>\n",
              "      <th>4</th>\n",
              "      <td>-114.57</td>\n",
              "      <td>33.57</td>\n",
              "      <td>20.0</td>\n",
              "      <td>1454.0</td>\n",
              "      <td>326.0</td>\n",
              "      <td>624.0</td>\n",
              "      <td>262.0</td>\n",
              "      <td>1.9250</td>\n",
              "      <td>65500.0</td>\n",
              "    </tr>\n",
              "  </tbody>\n",
              "</table>\n",
              "</div>"
            ],
            "text/plain": [
              "   longitude  latitude  housing_median_age  total_rooms  total_bedrooms  \\\n",
              "0    -114.31     34.19                15.0       5612.0          1283.0   \n",
              "1    -114.47     34.40                19.0       7650.0          1901.0   \n",
              "2    -114.56     33.69                17.0        720.0           174.0   \n",
              "3    -114.57     33.64                14.0       1501.0           337.0   \n",
              "4    -114.57     33.57                20.0       1454.0           326.0   \n",
              "\n",
              "   population  households  median_income  median_house_value  \n",
              "0      1015.0       472.0         1.4936             66900.0  \n",
              "1      1129.0       463.0         1.8200             80100.0  \n",
              "2       333.0       117.0         1.6509             85700.0  \n",
              "3       515.0       226.0         3.1917             73400.0  \n",
              "4       624.0       262.0         1.9250             65500.0  "
            ]
          },
          "execution_count": 4,
          "metadata": {},
          "output_type": "execute_result"
        }
      ],
      "source": [
        "df.head()"
      ]
    },
    {
      "cell_type": "code",
      "execution_count": 5,
      "metadata": {
        "colab": {
          "base_uri": "https://localhost:8080/"
        },
        "id": "vSnhsBQ2TMbF",
        "outputId": "07d47f6c-64cf-4da7-f8e3-7bcce1ff9bd7"
      },
      "outputs": [
        {
          "data": {
            "text/plain": [
              "(17000, 9)"
            ]
          },
          "execution_count": 5,
          "metadata": {},
          "output_type": "execute_result"
        }
      ],
      "source": [
        "df.shape"
      ]
    },
    {
      "cell_type": "code",
      "execution_count": 6,
      "metadata": {},
      "outputs": [
        {
          "data": {
            "image/png": "[encoded data removed]",
            "text/plain": [
              "<Figure size 640x480 with 1 Axes>"
            ]
          },
          "metadata": {},
          "output_type": "display_data"
        }
      ],
      "source": [
        "import matplotlib.pyplot as plt\n",
        "plt.scatter(df['longitude'], df['latitude'], s= df['median_income']/10, c= df['median_house_value'], cmap='Reds')\n",
        "plt.show()"
      ]
    },
    {
      "cell_type": "markdown",
      "metadata": {
        "id": "iJ8OK_s3iVHN"
      },
      "source": [
        "### Exercise: Separate Features (X) and Target (y)\n",
        "\n",
        "**Instructions:**\n",
        "\n",
        "1. Use the California housing dataset loaded in the previous step.\n",
        "2. Define `X` as the feature matrix by removing the target column.\n",
        "3. Define `y` as the target vector. The target column is usually named `median_house_value`.\n",
        "\n",
        "**Expected Output:**\n",
        "\n",
        "- `X` should be a DataFrame containing all columns **except** `median_house_value`.\n",
        "- `y` should be a Series containing only the `median_house_value` column.\n"
      ]
    },
    {
      "cell_type": "code",
      "execution_count": 7,
      "metadata": {
        "id": "yD2hb461TYuP"
      },
      "outputs": [],
      "source": [
        "x = df.iloc[:,:-1]\n",
        "y = df.iloc[:,-1]"
      ]
    },
    {
      "cell_type": "code",
      "execution_count": 8,
      "metadata": {},
      "outputs": [],
      "source": [
        "x = df.drop(['median_house_value'], axis= 1)\n",
        "y = df['median_house_value']"
      ]
    },
    {
      "cell_type": "markdown",
      "metadata": {
        "id": "M9Ksj8TFixd9"
      },
      "source": [
        "Print the first 5 rows of the x."
      ]
    },
    {
      "cell_type": "code",
      "execution_count": 9,
      "metadata": {
        "id": "_PhCI1QyjEKV"
      },
      "outputs": [
        {
          "data": {
            "text/html": [
              "<div>\n",
              "<style scoped>\n",
              "    .dataframe tbody tr th:only-of-type {\n",
              "        vertical-align: middle;\n",
              "    }\n",
              "\n",
              "    .dataframe tbody tr th {\n",
              "        vertical-align: top;\n",
              "    }\n",
              "\n",
              "    .dataframe thead th {\n",
              "        text-align: right;\n",
              "    }\n",
              "</style>\n",
              "<table border=\"1\" class=\"dataframe\">\n",
              "  <thead>\n",
              "    <tr style=\"text-align: right;\">\n",
              "      <th></th>\n",
              "      <th>longitude</th>\n",
              "      <th>latitude</th>\n",
              "      <th>housing_median_age</th>\n",
              "      <th>total_rooms</th>\n",
              "      <th>total_bedrooms</th>\n",
              "      <th>population</th>\n",
              "      <th>households</th>\n",
              "      <th>median_income</th>\n",
              "    </tr>\n",
              "  </thead>\n",
              "  <tbody>\n",
              "    <tr>\n",
              "      <th>0</th>\n",
              "      <td>-114.31</td>\n",
              "      <td>34.19</td>\n",
              "      <td>15.0</td>\n",
              "      <td>5612.0</td>\n",
              "      <td>1283.0</td>\n",
              "      <td>1015.0</td>\n",
              "      <td>472.0</td>\n",
              "      <td>1.4936</td>\n",
              "    </tr>\n",
              "    <tr>\n",
              "      <th>1</th>\n",
              "      <td>-114.47</td>\n",
              "      <td>34.40</td>\n",
              "      <td>19.0</td>\n",
              "      <td>7650.0</td>\n",
              "      <td>1901.0</td>\n",
              "      <td>1129.0</td>\n",
              "      <td>463.0</td>\n",
              "      <td>1.8200</td>\n",
              "    </tr>\n",
              "    <tr>\n",
              "      <th>2</th>\n",
              "      <td>-114.56</td>\n",
              "      <td>33.69</td>\n",
              "      <td>17.0</td>\n",
              "      <td>720.0</td>\n",
              "      <td>174.0</td>\n",
              "      <td>333.0</td>\n",
              "      <td>117.0</td>\n",
              "      <td>1.6509</td>\n",
              "    </tr>\n",
              "    <tr>\n",
              "      <th>3</th>\n",
              "      <td>-114.57</td>\n",
              "      <td>33.64</td>\n",
              "      <td>14.0</td>\n",
              "      <td>1501.0</td>\n",
              "      <td>337.0</td>\n",
              "      <td>515.0</td>\n",
              "      <td>226.0</td>\n",
              "      <td>3.1917</td>\n",
              "    </tr>\n",
              "    <tr>\n",
              "      <th>4</th>\n",
              "      <td>-114.57</td>\n",
              "      <td>33.57</td>\n",
              "      <td>20.0</td>\n",
              "      <td>1454.0</td>\n",
              "      <td>326.0</td>\n",
              "      <td>624.0</td>\n",
              "      <td>262.0</td>\n",
              "      <td>1.9250</td>\n",
              "    </tr>\n",
              "  </tbody>\n",
              "</table>\n",
              "</div>"
            ],
            "text/plain": [
              "   longitude  latitude  housing_median_age  total_rooms  total_bedrooms  \\\n",
              "0    -114.31     34.19                15.0       5612.0          1283.0   \n",
              "1    -114.47     34.40                19.0       7650.0          1901.0   \n",
              "2    -114.56     33.69                17.0        720.0           174.0   \n",
              "3    -114.57     33.64                14.0       1501.0           337.0   \n",
              "4    -114.57     33.57                20.0       1454.0           326.0   \n",
              "\n",
              "   population  households  median_income  \n",
              "0      1015.0       472.0         1.4936  \n",
              "1      1129.0       463.0         1.8200  \n",
              "2       333.0       117.0         1.6509  \n",
              "3       515.0       226.0         3.1917  \n",
              "4       624.0       262.0         1.9250  "
            ]
          },
          "execution_count": 9,
          "metadata": {},
          "output_type": "execute_result"
        }
      ],
      "source": [
        "x.head()"
      ]
    },
    {
      "cell_type": "markdown",
      "metadata": {
        "id": "iCca3Z2EjCwl"
      },
      "source": [
        "### Exercise: Print the Shape of Feature Matrix X\n",
        "\n",
        "**Instructions:**\n",
        "\n",
        "1. Using the feature matrix `X` defined earlier, print its shape (number of rows and columns).\n",
        "\n",
        "**Expected Output:**\n",
        "\n",
        "- The output should display a tuple showing the dimensions of `X`, for example `(17000, 8)` indicating 17,000 rows and 8 columns.\n"
      ]
    },
    {
      "cell_type": "code",
      "execution_count": 10,
      "metadata": {
        "colab": {
          "base_uri": "https://localhost:8080/"
        },
        "id": "qGkXENicTfBk",
        "outputId": "ce5fc2c8-65e4-4e23-bf19-52e480e5c498"
      },
      "outputs": [
        {
          "data": {
            "text/plain": [
              "(17000, 8)"
            ]
          },
          "execution_count": 10,
          "metadata": {},
          "output_type": "execute_result"
        }
      ],
      "source": [
        "x.shape"
      ]
    },
    {
      "cell_type": "markdown",
      "metadata": {
        "id": "4rcdiu8ejSQd"
      },
      "source": [
        "### Exercise: Split the Dataset into Training and Test Sets\n",
        "\n",
        "**Instructions:**\n",
        "\n",
        "1. Split the dataset into training and test sets.\n",
        "2. Use 20% of the data as the test set.\n",
        "3. Use `train_test_split` from `sklearn.model_selection` for splitting.\n",
        "\n",
        "**Expected Output:**\n",
        "\n",
        "- You should have four variables: `X_train`, `X_test`, `y_train`, and `y_test`.\n",
        "- The test set should contain approximately 20% of the samples.\n"
      ]
    },
    {
      "cell_type": "code",
      "execution_count": 11,
      "metadata": {
        "id": "ZAGrTvKPjT-m"
      },
      "outputs": [],
      "source": [
        "from sklearn.model_selection import train_test_split\n",
        "x_train, x_test, y_train, y_test = train_test_split(x, y, test_size=.2, random_state= 42)"
      ]
    },
    {
      "cell_type": "code",
      "execution_count": 12,
      "metadata": {},
      "outputs": [
        {
          "data": {
            "text/plain": [
              "(13600, 8)"
            ]
          },
          "execution_count": 12,
          "metadata": {},
          "output_type": "execute_result"
        }
      ],
      "source": [
        "x_train.shape"
      ]
    },
    {
      "cell_type": "markdown",
      "metadata": {
        "id": "pe04stn7je19"
      },
      "source": [
        "### Exercise: Define the Device for PyTorch\n",
        "\n",
        "**Instructions:**\n",
        "\n",
        "1. Import `torch` library.\n",
        "2. Define a variable `device` that uses GPU if available, otherwise CPU.\n",
        "3. Print the selected device.\n",
        "\n",
        "**Expected Output:**\n",
        "\n",
        "- The output should show either `cuda` (if GPU is available) or `cpu`.\n",
        "\n"
      ]
    },
    {
      "cell_type": "code",
      "execution_count": 13,
      "metadata": {
        "id": "SAWXhPl-kgPt"
      },
      "outputs": [
        {
          "data": {
            "text/plain": [
              "'cpu'"
            ]
          },
          "execution_count": 13,
          "metadata": {},
          "output_type": "execute_result"
        }
      ],
      "source": [
        "import torch\n",
        "device = 'cuda' if torch.cuda.is_available() else 'cpu'\n",
        "device"
      ]
    },
    {
      "cell_type": "markdown",
      "metadata": {
        "id": "M-iTKpjQkiYF"
      },
      "source": [
        "### Exercise: Convert Training Data to PyTorch Tensors (with Correct Shape)\n",
        "\n",
        "**Instructions:**\n",
        "\n",
        "1. Convert the training feature matrix `X_train` and the target vector `y_train` to PyTorch tensors.\n",
        "2. Ensure that `X_train_tensor` has data type `float32` and shape `(n_samples, n_features)`.\n",
        "3. Ensure that `y_train_tensor` has shape `(n_samples, 1)` (i.e., two-dimensional).\n",
        "4. Move both tensors to the appropriate `device` (CPU or GPU).\n",
        "\n",
        "**Expected Output:**\n",
        "\n",
        "- `X_train_tensor`: a 2D tensor of shape `[number_of_samples, number_of_features]`.\n",
        "- `y_train_tensor`: a 2D tensor of shape `[number_of_samples, 1]`.\n"
      ]
    },
    {
      "cell_type": "code",
      "execution_count": 23,
      "metadata": {
        "id": "vVWAYiZok03-"
      },
      "outputs": [],
      "source": [
        "x_train_tensor = torch.tensor(x_train.values, dtype= torch.float32, device= device)\n",
        "x_test_tensor = torch.tensor(x_test.values, dtype= torch.float32, device= device)\n",
        "\n",
        "y_train_tensor = torch.tensor(y_train.values.reshape(-1, 1), dtype= torch.float32, device= device)\n",
        "y_test_tensor = torch.tensor(y_test.values.reshape(-1, 1), dtype= torch.float32, device= device)"
      ]
    },
    {
      "cell_type": "markdown",
      "metadata": {
        "id": "NQBhWPnMk-S-"
      },
      "source": [
        "### Exercise: Build a Neural Network Model with 3 Layers\n",
        "\n",
        "**Instructions:**\n",
        "\n",
        "1. Build a PyTorch neural network model.\n",
        "2. The architecture should include 3 layers:\n",
        "   - First layer: 5 neurons with ReLU activation\n",
        "   - Second layer: 3 neurons with ReLU activation\n",
        "   - Final layer: 1 neuron (no activation function)\n",
        "3. Do **not** apply any activation function to the output layer.\n",
        "\n",
        "**Expected Output:**\n",
        "\n",
        "- A model object containing 3 layers.\n",
        "- The output of the model should be a single continuous value suitable for regression.\n"
      ]
    },
    {
      "cell_type": "code",
      "execution_count": 30,
      "metadata": {
        "id": "jF2jnvQtYEwE"
      },
      "outputs": [],
      "source": [
        "from torch import nn\n",
        "\n",
        "class ManualRegresion(nn.Module):\n",
        "    def __init__(self, input_dim):\n",
        "        super().__init__()\n",
        "        self.fc1 = nn.Linear(input_dim, 5)\n",
        "        self.fc2 = nn.Linear(5, 3)\n",
        "        self.fc3 = nn.Linear(3, 1)\n",
        "        self.relu = nn.ReLU()\n",
        "\n",
        "    def forward(self, x):\n",
        "        x = self.relu(self.fc1(x))\n",
        "        x = self.fc2(x)\n",
        "        x = self.relu(x)\n",
        "        x = self.fc3(x)\n",
        "        return x"
      ]
    },
    {
      "cell_type": "markdown",
      "metadata": {
        "id": "_MF7W0icpqOe"
      },
      "source": [
        "### Exercise: Implement the Training Loop and Train the Model\n",
        "\n",
        "**Instructions:**\n",
        "\n",
        "1. Write a training loop to train the model for **500 epochs**.\n",
        "2. Use **Mean Squared Error (MSE)** as the loss function.\n",
        "3. Use an optimizer such as **SGD**.\n",
        "4. In each epoch:\n",
        "   - Perform a forward pass.\n",
        "   - Compute the loss.\n",
        "   - Perform a backward pass.\n",
        "   - Update the model parameters.\n",
        "5. Print the loss every 50 epochs to monitor training progress.\n",
        "\n",
        "**Expected Output:**\n",
        "\n",
        "- The model should train for 500 epochs.\n",
        "- You should see printed loss values at regular intervals (e.g., every 50 epochs).\n",
        "- The loss should generally decrease over time if the model is learning properly.\n"
      ]
    },
    {
      "cell_type": "code",
      "execution_count": 31,
      "metadata": {
        "colab": {
          "base_uri": "https://localhost:8080/"
        },
        "id": "3O3NMMhnY-QU",
        "outputId": "f3760b97-8ce7-4bde-e964-e7789c97ba83"
      },
      "outputs": [
        {
          "name": "stdout",
          "output_type": "stream",
          "text": [
            "epochs 1 train loss = 56095772672.0\n",
            "epochs 50 train loss = 2.525857095196527e+25\n",
            "epochs 100 train loss = 3.349780861602689e+24\n",
            "epochs 150 train loss = 4.442465964588718e+23\n",
            "epochs 200 train loss = 5.891577507328691e+22\n",
            "epochs 250 train loss = 7.813389569117248e+21\n",
            "epochs 300 train loss = 1.0362090314136803e+21\n",
            "epochs 350 train loss = 1.3742155480000207e+20\n",
            "epochs 400 train loss = 1.822479115896855e+19\n",
            "epochs 450 train loss = 2.4169635026074337e+18\n",
            "epochs 500 train loss = 3.2053657039640986e+17\n"
          ]
        }
      ],
      "source": [
        "from torch import optim\n",
        "\n",
        "torch.manual_seed(42)\n",
        "lr = .01\n",
        "input_dim = x_train_tensor.shape[1]\n",
        "model = ManualRegresion(input_dim).to(device)\n",
        "optimizer = optim.SGD(model.parameters(), lr= lr)\n",
        "loss_fn = nn.MSELoss()\n",
        "n_epochs = 500\n",
        "losses = []\n",
        "\n",
        "for epochs in range(n_epochs):\n",
        "    model.train()\n",
        "    optimizer.zero_grad()\n",
        "    y_pred = model(x_train_tensor)\n",
        "    loss = loss_fn(y_train_tensor, y_pred)\n",
        "    loss.backward()\n",
        "    optimizer.step()\n",
        "    losses.append(loss.detach().cpu().item())\n",
        "    if (epochs + 1) % 50 == 0 or epochs == 0:\n",
        "        print(f'epochs {epochs + 1} train loss = {loss.detach().cpu().item()}')"
      ]
    },
    {
      "cell_type": "markdown",
      "metadata": {
        "id": "91f9amRzqsNu"
      },
      "source": [
        "### Exercise: Analyze the Training Behavior\n",
        "\n",
        "**Instructions:**\n",
        "\n",
        "After training the model for 500 epochs, observe the printed loss values over time.\n",
        "\n",
        "You are expected to see a decreasing trend in the loss, indicating that the model is learning and updating its parameters correctly.\n",
        "\n",
        "However, you might notice that:\n",
        "\n",
        "- The loss is **not decreasing significantly**, or\n",
        "- The loss remains **almost constant**, or\n",
        "- The loss shows **unexpected fluctuations**.\n",
        "\n",
        "This suggests that **learning may not be happening as expected**, even though the training loop and model definition seem correct.\n",
        "\n",
        "**Question:**\n",
        "\n",
        "What could be the reasons for the model not learning properly?\n",
        "\n",
        "- The code logic appears to be correct.\n",
        "- The model runs without errors.\n",
        "- The loss function and optimizer are standard.\n",
        "\n",
        "**Hint:** Think about the nature and scale of the input data. Neural networks are sensitive to the scale of input features. You may consider whether data **normalization or standardization** is necessary before feeding inputs into the model.\n",
        "\n",
        "Discuss what might be going wrong and how you would investigate or fix it.\n"
      ]
    },
    {
      "cell_type": "code",
      "execution_count": 32,
      "metadata": {
        "id": "Wk8dPrl9sHD2"
      },
      "outputs": [],
      "source": [
        "x_mu = x_train_tensor.mean(axis= 0)\n",
        "x_std = x_train_tensor.std(axis = 0)\n",
        "x_train_tensor_scaled = (x_train_tensor - x_mu)/(x_std)\n",
        "\n",
        "y_mu = y_train_tensor.mean()\n",
        "y_std = y_train_tensor.std()\n",
        "y_train_tensor_scaled = (y_train_tensor - y_mu)/(y_std)\n",
        "\n",
        "x_test_tensor_scaled = (x_test_tensor - x_mu)/(x_std)\n",
        "y_test_tensor_scaled = (y_test_tensor - y_mu)/(y_std)"
      ]
    },
    {
      "cell_type": "markdown",
      "metadata": {
        "id": "y358DlWasILO"
      },
      "source": [
        "### Exercise: Manually Normalize Input Features and Target (Without sklearn)\n",
        "\n",
        "**Instructions:**\n",
        "\n",
        "In regression problems, it's important to normalize both the **input features (`X`)** and the **target (`y`)** to improve the stability and efficiency of training.\n",
        "\n",
        "You will perform **standard normalization** (zero mean and unit variance) **manually**, without using any external library such as `sklearn`.\n",
        "\n",
        "---\n",
        "\n",
        "#### 🔹 Normalization Formula:\n",
        "\n",
        "For each column (feature or target), apply:\n",
        "\n",
        "$$\n",
        "x_{\\text{normalized}} = \\frac{x - \\mu}{\\sigma}\n",
        "$$\n",
        "\n",
        "where:\n",
        "\n",
        "- \\( x \\): original value  \n",
        "- \\( \\mu \\): mean of the column (computed from `X_train` or `y_train`)  \n",
        "- \\( \\sigma \\): standard deviation of the column (computed from `X_train` or `y_train`)  \n",
        "\n",
        "---\n",
        "\n",
        "#### 🔹 Your Tasks:\n",
        "\n",
        "1. Compute the mean and standard deviation of each feature column in `X_train`.\n",
        "2. Normalize `X_train` using these values.\n",
        "3. Normalize `X_test` using the **same** mean and std from `X_train`.\n",
        "4. Compute the mean and std of `y_train`, then normalize it.\n",
        "5. Apply the same transformation to `y_test`.\n",
        "6. After normalization, convert all the data to PyTorch tensors and move them to the appropriate `device`.\n",
        "\n",
        "---\n",
        "\n",
        "#### ⚠️ Notes:\n",
        "\n",
        "- Do **not** use `sklearn.preprocessing.StandardScaler` or any similar library.\n",
        "- Normalization must be done **before converting the data to PyTorch tensors**.\n",
        "- Keep track of the mean and std values for `y` — they will be needed later to **de-normalize predictions** (e.g., for evaluation or visualization).\n",
        "- Without proper normalization, the model may fail to learn effectively, especially if feature scales differ significantly.\n",
        "\n",
        "---\n",
        "\n",
        "**Expected Output:**\n",
        "\n",
        "- Each column in `X_train` should have a mean close to 0 and standard deviation close to 1.\n",
        "- The same applies to `y_train`.\n",
        "- `X_test` and `y_test` should be transformed using `X_train` and `y_train` statistics.\n",
        "- Model training loss should now decrease more consistently compared to training without normalization.\n",
        "\n"
      ]
    },
    {
      "cell_type": "code",
      "execution_count": 33,
      "metadata": {
        "id": "7kdS0YGOt32u"
      },
      "outputs": [
        {
          "name": "stdout",
          "output_type": "stream",
          "text": [
            "Epoch 1: train loss = 1.1765588521957397, val loss1.1773452758789062\n",
            "Epoch 500: train loss = 0.6364377737045288, val loss0.6313725113868713\n",
            "Epoch 1000: train loss = 0.4464797377586365, val loss0.4359516501426697\n",
            "Epoch 1500: train loss = 0.3688179552555084, val loss0.35629549622535706\n",
            "Epoch 2000: train loss = 0.3522011339664459, val loss0.3397154211997986\n",
            "Epoch 2500: train loss = 0.3409717381000519, val loss0.32952553033828735\n",
            "Epoch 3000: train loss = 0.3319864571094513, val loss0.32177793979644775\n",
            "Epoch 3500: train loss = 0.32538560032844543, val loss0.3164962828159332\n",
            "Epoch 4000: train loss = 0.3210557997226715, val loss0.31332823634147644\n",
            "Epoch 4500: train loss = 0.3180054724216461, val loss0.3109426200389862\n",
            "Epoch 5000: train loss = 0.3155738115310669, val loss0.30908283591270447\n",
            "Epoch 5500: train loss = 0.3133687674999237, val loss0.30749377608299255\n",
            "Epoch 6000: train loss = 0.3112908601760864, val loss0.3059796988964081\n",
            "Epoch 6500: train loss = 0.3091898262500763, val loss0.3042486906051636\n",
            "Epoch 7000: train loss = 0.30704429745674133, val loss0.3025011420249939\n",
            "Epoch 7500: train loss = 0.3045332133769989, val loss0.30033430457115173\n",
            "Epoch 8000: train loss = 0.30149880051612854, val loss0.2977231442928314\n",
            "Epoch 8500: train loss = 0.29741188883781433, val loss0.2944257855415344\n",
            "Epoch 9000: train loss = 0.29248327016830444, val loss0.29032087326049805\n",
            "Epoch 9500: train loss = 0.2875102758407593, val loss0.2861368656158447\n",
            "Epoch 10000: train loss = 0.2838344871997833, val loss0.28293678164482117\n"
          ]
        }
      ],
      "source": [
        "from torch import optim\n",
        "torch.manual_seed(42)\n",
        "lr = .01\n",
        "input_dim = x_train_tensor.shape[1]\n",
        "model = ManualRegresion(input_dim).to(device)\n",
        "optimizer = optim.SGD(model.parameters(), lr = lr)\n",
        "loss_fn = nn.MSELoss()\n",
        "n_epochs = 10000\n",
        "train_losses = []\n",
        "val_losses = []\n",
        "\n",
        "for epochs in range(n_epochs):\n",
        "  model.train()\n",
        "  optimizer.zero_grad()\n",
        "  y_pred = model(x_train_tensor_scaled)\n",
        "  loss = loss_fn(y_train_tensor_scaled, y_pred)\n",
        "  loss.backward()\n",
        "  optimizer.step()\n",
        "  train_losses.append(loss.detach().cpu().item())\n",
        "\n",
        "  model.eval()\n",
        "  with torch.no_grad():\n",
        "    y_pred = model(x_test_tensor_scaled)\n",
        "    test_loss = loss_fn(y_test_tensor_scaled, y_pred)\n",
        "    val_losses.append(test_loss.cpu().item())\n",
        "\n",
        "  if (epochs + 1) % 500 == 0 or epochs == 0:\n",
        "    print(f'Epoch {epochs + 1}: train loss = {loss.detach().cpu().item()}, val loss{test_loss.cpu().item()}')\n"
      ]
    },
    {
      "cell_type": "code",
      "execution_count": 34,
      "metadata": {},
      "outputs": [
        {
          "data": {
            "text/plain": [
              "<function matplotlib.pyplot.show(close=None, block=None)>"
            ]
          },
          "execution_count": 34,
          "metadata": {},
          "output_type": "execute_result"
        },
        {
          "data": {
            "image/png": "[encoded data removed]",
            "text/plain": [
              "<Figure size 640x480 with 1 Axes>"
            ]
          },
          "metadata": {},
          "output_type": "display_data"
        }
      ],
      "source": [
        "plt.plot(range(n_epochs), train_losses)\n",
        "plt.plot(range(n_epochs), val_losses)\n",
        "plt.show"
      ]
    },
    {
      "cell_type": "markdown",
      "metadata": {
        "id": "rUOTvkg8t4eO"
      },
      "source": [
        "### Exercise: Convert Normalized Data to Tensors, Train the Model, and Plot Loss\n",
        "\n",
        "**Instructions:**\n",
        "\n",
        "1. Convert the normalized `X_train`, `X_test`, `y_train`, and `y_test` data to PyTorch tensors.\n",
        "2. Move the tensors to the appropriate device (CPU or GPU).\n",
        "3. Train the model using the normalized training data.\n",
        "4. During training, record the loss value for each epoch.\n",
        "5. After training, plot the training loss curve over all epochs to visualize the learning progress.\n",
        "6. Analyze the plot to confirm that the loss decreases smoothly over time, indicating successful training.\n",
        "\n",
        "**Expected Output:**\n",
        "\n",
        "- Tensors for all datasets on the correct device.\n",
        "- A training loss plot showing a generally decreasing trend.\n",
        "- Confirmation that normalization helped stabilize and improve training.\n"
      ]
    },
    {
      "cell_type": "code",
      "execution_count": null,
      "metadata": {
        "id": "Of4T70CIuJf1"
      },
      "outputs": [],
      "source": []
    },
    {
      "cell_type": "code",
      "execution_count": null,
      "metadata": {
        "id": "t9jUbO6buVev"
      },
      "outputs": [],
      "source": []
    },
    {
      "cell_type": "markdown",
      "metadata": {
        "id": "tUlrwIKcuV3u"
      },
      "source": [
        "### Exercise: Increase Model Complexity and Experiment with Learning Rates\n",
        "\n",
        "**Instructions:**\n",
        "\n",
        "1. Modify your neural network model to make it more complex by:\n",
        "   - Increasing the number of layers (e.g., 4 or 5 layers).\n",
        "   - Increasing the number of neurons in each layer (e.g., 64, 32, 16, 8, 1).\n",
        "   - Use ReLU activation in all layers except the last.\n",
        "2. Train the model with **different learning rates** (e.g., 0.01, 0.001, 0.0001).\n",
        "3. For each learning rate:\n",
        "   - Train the model for the same number of epochs.\n",
        "   - Record the training loss over epochs.\n",
        "4. Compare and analyze the results to determine how learning rate affects the training process and final performance.\n",
        "5. Optionally, plot the training loss curves for different learning rates on the same graph for better comparison.\n",
        "\n",
        "**Expected Output:**\n",
        "\n",
        "- Multiple trained models with varying learning rates.\n",
        "- Training loss plots showing how different learning rates impact convergence speed and stability.\n",
        "- An analysis explaining which learning rate works best and why.\n"
      ]
    },
    {
      "cell_type": "code",
      "execution_count": null,
      "metadata": {
        "id": "sl65MzwDZsY_"
      },
      "outputs": [],
      "source": []
    },
    {
      "cell_type": "code",
      "execution_count": null,
      "metadata": {
        "colab": {
          "base_uri": "https://localhost:8080/",
          "height": 430
        },
        "id": "pbcYEPkRaZ3W",
        "outputId": "33d6576c-ac35-451a-c5df-b2f6b7ac718f"
      },
      "outputs": [],
      "source": []
    }
  ],
  "metadata": {
    "accelerator": "GPU",
    "colab": {
      "gpuType": "T4",
      "provenance": []
    },
    "kernelspec": {
      "display_name": "env",
      "language": "python",
      "name": "python3"
    },
    "language_info": {
      "codemirror_mode": {
        "name": "ipython",
        "version": 3
      },
      "file_extension": ".py",
      "mimetype": "text/x-python",
      "name": "python",
      "nbconvert_exporter": "python",
      "pygments_lexer": "ipython3",
      "version": "3.10.10"
    }
  },
  "nbformat": 4,
  "nbformat_minor": 0
}
